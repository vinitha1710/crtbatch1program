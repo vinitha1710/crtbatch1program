{
  "nbformat": 4,
  "nbformat_minor": 0,
  "metadata": {
    "colab": {
      "name": "python(day2)",
      "provenance": []
    },
    "kernelspec": {
      "name": "python3",
      "display_name": "Python 3"
    }
  },
  "cells": [
    {
      "cell_type": "markdown",
      "metadata": {
        "id": "qflDaFt-Vksd",
        "colab_type": "text"
      },
      "source": [
        "## while loop syntax:\n",
        "- while condition:\n",
        "    - statements"
      ]
    },
    {
      "cell_type": "code",
      "metadata": {
        "id": "40IEKjtMVW1P",
        "colab_type": "code",
        "colab": {
          "base_uri": "https://localhost:8080/",
          "height": 51
        },
        "outputId": "94b24e28-5f35-403a-9104-4bf5266ee4d1"
      },
      "source": [
        "# print numbers from 1 to 10 \n",
        "n=int(input(\" \"))\n",
        "i=1\n",
        "while i<=n:\n",
        "  print(i, end=' ')\n",
        "  i=i+1"
      ],
      "execution_count": 3,
      "outputs": [
        {
          "output_type": "stream",
          "text": [
            " 10\n",
            "1 2 3 4 5 6 7 8 9 10 "
          ],
          "name": "stdout"
        }
      ]
    },
    {
      "cell_type": "code",
      "metadata": {
        "id": "YO8qkoH3YCP6",
        "colab_type": "code",
        "colab": {
          "base_uri": "https://localhost:8080/",
          "height": 51
        },
        "outputId": "71e3469d-3f59-4253-cb31-eba56fe9ab42"
      },
      "source": [
        "#find the sum of digits of given number\n",
        "n=int(input(' ')) \n",
        "sum=0\n",
        "while n!=0:\n",
        "  r=n%10\n",
        "  sum =sum + r\n",
        "  n=n//10\n",
        "print(sum)"
      ],
      "execution_count": 7,
      "outputs": [
        {
          "output_type": "stream",
          "text": [
            " 123\n",
            "6\n"
          ],
          "name": "stdout"
        }
      ]
    },
    {
      "cell_type": "code",
      "metadata": {
        "id": "bmaKjShdZ_u3",
        "colab_type": "code",
        "colab": {
          "base_uri": "https://localhost:8080/",
          "height": 51
        },
        "outputId": "c99c3cd7-cdc9-4fb7-d713-b7f8b6d7d1f5"
      },
      "source": [
        "# output of the number in reverse order\n",
        "n=int(input(' '))\n",
        "i=0\n",
        "while n!=0:\n",
        "  r=n%10\n",
        "  i=i*10+r\n",
        "  n=n//10\n",
        "print(\"the reverse order of given number:\",i)\n"
      ],
      "execution_count": 11,
      "outputs": [
        {
          "output_type": "stream",
          "text": [
            " 123\n",
            "the reverse order of given number: 321\n"
          ],
          "name": "stdout"
        }
      ]
    },
    {
      "cell_type": "markdown",
      "metadata": {
        "id": "OTnhbPnxdf3X",
        "colab_type": "text"
      },
      "source": [
        "# for loop syntax:\n",
        "- for variable_name in iterable_obj:\n",
        "    - statements\n",
        "    \n",
        "- for vari_name in range(start,stop,step):\n",
        "    - statements"
      ]
    },
    {
      "cell_type": "code",
      "metadata": {
        "id": "aUEam7Hedd48",
        "colab_type": "code",
        "colab": {
          "base_uri": "https://localhost:8080/",
          "height": 187
        },
        "outputId": "80e414fc-c76b-4694-ee7e-b5425096346a"
      },
      "source": [
        "# examples for using for loop syntax\n",
        "for i in range(0, 10):\n",
        "  print(i)"
      ],
      "execution_count": 12,
      "outputs": [
        {
          "output_type": "stream",
          "text": [
            "0\n",
            "1\n",
            "2\n",
            "3\n",
            "4\n",
            "5\n",
            "6\n",
            "7\n",
            "8\n",
            "9\n"
          ],
          "name": "stdout"
        }
      ]
    },
    {
      "cell_type": "code",
      "metadata": {
        "id": "bQR3vFz0fHwC",
        "colab_type": "code",
        "colab": {
          "base_uri": "https://localhost:8080/",
          "height": 187
        },
        "outputId": "8e8fc71d-ffa6-41c4-e25e-68bce659502d"
      },
      "source": [
        "for i in range(1, 10+1):\n",
        "  print(i)"
      ],
      "execution_count": 13,
      "outputs": [
        {
          "output_type": "stream",
          "text": [
            "1\n",
            "2\n",
            "3\n",
            "4\n",
            "5\n",
            "6\n",
            "7\n",
            "8\n",
            "9\n",
            "10\n"
          ],
          "name": "stdout"
        }
      ]
    },
    {
      "cell_type": "code",
      "metadata": {
        "id": "clRVJa4kfO8Y",
        "colab_type": "code",
        "colab": {
          "base_uri": "https://localhost:8080/",
          "height": 102
        },
        "outputId": "afffc5e3-a396-4bd1-9695-bdb1bd2e2cec"
      },
      "source": [
        "for i in range(1, 10+1, 2):\n",
        "  print(i)"
      ],
      "execution_count": 14,
      "outputs": [
        {
          "output_type": "stream",
          "text": [
            "1\n",
            "3\n",
            "5\n",
            "7\n",
            "9\n"
          ],
          "name": "stdout"
        }
      ]
    },
    {
      "cell_type": "code",
      "metadata": {
        "id": "i7hXYBf3fs7A",
        "colab_type": "code",
        "colab": {
          "base_uri": "https://localhost:8080/",
          "height": 119
        },
        "outputId": "a208cfcd-2453-4dfb-df9d-2fab3a7bdb9a"
      },
      "source": [
        "for i in \"python\":\n",
        "  print(i)"
      ],
      "execution_count": 15,
      "outputs": [
        {
          "output_type": "stream",
          "text": [
            "p\n",
            "y\n",
            "t\n",
            "h\n",
            "o\n",
            "n\n"
          ],
          "name": "stdout"
        }
      ]
    },
    {
      "cell_type": "markdown",
      "metadata": {
        "id": "1E4ppdrFg0m6",
        "colab_type": "text"
      },
      "source": [
        "# funtions\n",
        "- simple\n",
        "- reusable\n",
        "- debugging is easy\n",
        "-length of the program reduces\n",
        "\n",
        "## two types of functions:\n",
        "- build-in functions\n",
        "- user-defined functions\n",
        "\n",
        "### syntax of a funcyion:\n",
        "- def function_name(parameters):\n",
        "    - statements\n",
        "    - return (it can return multiple vaules)"
      ]
    },
    {
      "cell_type": "code",
      "metadata": {
        "id": "UED_7usti4X1",
        "colab_type": "code",
        "colab": {
          "base_uri": "https://localhost:8080/",
          "height": 68
        },
        "outputId": "6cfa598a-e5b4-440f-f976-3b34b533b8d0"
      },
      "source": [
        "# addition of two numbers\n",
        "a=int(input(' '))\n",
        "b=int(input(' '))\n",
        "def addition(a,b):\n",
        "  c=a+b\n",
        "  print(c)\n",
        "addition(a,b)"
      ],
      "execution_count": 17,
      "outputs": [
        {
          "output_type": "stream",
          "text": [
            " 3\n",
            " 4\n",
            "7\n"
          ],
          "name": "stdout"
        }
      ]
    },
    {
      "cell_type": "code",
      "metadata": {
        "id": "ZkNMFkQVkLfw",
        "colab_type": "code",
        "colab": {
          "base_uri": "https://localhost:8080/",
          "height": 34
        },
        "outputId": "e2ecb53c-735a-4d20-c986-50cd3dd1f5c4"
      },
      "source": [
        "addition(a,b)"
      ],
      "execution_count": 20,
      "outputs": [
        {
          "output_type": "stream",
          "text": [
            "7\n"
          ],
          "name": "stdout"
        }
      ]
    },
    {
      "cell_type": "code",
      "metadata": {
        "id": "NAxGlEUvlWqr",
        "colab_type": "code",
        "colab": {
          "base_uri": "https://localhost:8080/",
          "height": 51
        },
        "outputId": "ca956e7c-0dc7-4cf7-cd42-28c757f51463"
      },
      "source": [
        "# find sum of even digits from the number\n",
        "n=int(input(' ')) \n",
        "def evendigits_sum(n):\n",
        "  sum=0\n",
        "  while n!=0:\n",
        "    r=n%10\n",
        "    if r%2==0:\n",
        "      sum =sum + r\n",
        "    n=n//10\n",
        "  return sum #if we use return, it allocate some memroy to it whereas 'print' does not do that\n",
        "evendigits_sum(1234)"
      ],
      "execution_count": 21,
      "outputs": [
        {
          "output_type": "stream",
          "text": [
            " 1234\n"
          ],
          "name": "stdout"
        },
        {
          "output_type": "execute_result",
          "data": {
            "text/plain": [
              "6"
            ]
          },
          "metadata": {
            "tags": []
          },
          "execution_count": 21
        }
      ]
    },
    {
      "cell_type": "code",
      "metadata": {
        "id": "XNICuIFMpXNF",
        "colab_type": "code",
        "colab": {
          "base_uri": "https://localhost:8080/",
          "height": 34
        },
        "outputId": "92efe13e-3baf-438f-80a8-f6806a718f8e"
      },
      "source": [
        "#print the largest digit from given number\n",
        "def large_digit(n):\n",
        "  l=0\n",
        "  while n!=0:\n",
        "    r=n%10\n",
        "    if l<r:\n",
        "      l=r\n",
        "    n=n//10\n",
        "  return l\n",
        "large_digit(985)"
      ],
      "execution_count": 24,
      "outputs": [
        {
          "output_type": "execute_result",
          "data": {
            "text/plain": [
              "9"
            ]
          },
          "metadata": {
            "tags": []
          },
          "execution_count": 24
        }
      ]
    },
    {
      "cell_type": "code",
      "metadata": {
        "id": "XL7fkCJXsVGU",
        "colab_type": "code",
        "colab": {
          "base_uri": "https://localhost:8080/",
          "height": 51
        },
        "outputId": "c9fd2fff-a8b7-49e1-d70b-0d4884fc367e"
      },
      "source": [
        "# given number is palindrome or not\n",
        "def palindrome(n):\n",
        " i=0\n",
        " while n!=0:\n",
        "  r=n%10\n",
        "  i=i*10+r\n",
        "  if n==i:\n",
        "    print(\"it is palindrome\")\n",
        "  n=n//10\n",
        " return i\n",
        "palindrome(121)"
      ],
      "execution_count": 33,
      "outputs": [
        {
          "output_type": "stream",
          "text": [
            "it is palindrome\n"
          ],
          "name": "stdout"
        },
        {
          "output_type": "execute_result",
          "data": {
            "text/plain": [
              "121"
            ]
          },
          "metadata": {
            "tags": []
          },
          "execution_count": 33
        }
      ]
    },
    {
      "cell_type": "code",
      "metadata": {
        "id": "Cq0eL0SsvjZW",
        "colab_type": "code",
        "colab": {
          "base_uri": "https://localhost:8080/",
          "height": 51
        },
        "outputId": "fc4268da-6389-4e85-f107-36d0fb101c76"
      },
      "source": [
        "def palindrome_1(n):\n",
        "  i=0\n",
        "  b=n\n",
        "  while n!=0:\n",
        "    i=i*10+(n%10)\n",
        "    n=n//10\n",
        "  if i==b:\n",
        "    return \"It is palindrome\"\n",
        "  return \"It is not a palidrome\"\n",
        "print(palindrome_1(121))\n",
        "palindrome_1(123)"
      ],
      "execution_count": 34,
      "outputs": [
        {
          "output_type": "stream",
          "text": [
            "It is palindrome\n"
          ],
          "name": "stdout"
        },
        {
          "output_type": "execute_result",
          "data": {
            "text/plain": [
              "'It is not a palidrome'"
            ]
          },
          "metadata": {
            "tags": []
          },
          "execution_count": 34
        }
      ]
    }
  ]
}
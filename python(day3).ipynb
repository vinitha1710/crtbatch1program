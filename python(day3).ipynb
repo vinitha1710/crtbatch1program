{
  "nbformat": 4,
  "nbformat_minor": 0,
  "metadata": {
    "colab": {
      "name": "python(day3)",
      "provenance": [],
      "include_colab_link": true
    },
    "kernelspec": {
      "name": "python3",
      "display_name": "Python 3"
    }
  },
  "cells": [
    {
      "cell_type": "markdown",
      "metadata": {
        "id": "view-in-github",
        "colab_type": "text"
      },
      "source": [
        "<a href=\"https://colab.research.google.com/github/vinitha1710/crtbatch1program/blob/master/python(day3).ipynb\" target=\"_parent\"><img src=\"https://colab.research.google.com/assets/colab-badge.svg\" alt=\"Open In Colab\"/></a>"
      ]
    },
    {
      "cell_type": "markdown",
      "metadata": {
        "id": "WUcK3YQFKmWG",
        "colab_type": "text"
      },
      "source": [
        "# collection types\n",
        "- 1. list\n",
        "- 2. tuple\n",
        "- 3. set\n",
        "- 4. dictionary"
      ]
    },
    {
      "cell_type": "markdown",
      "metadata": {
        "id": "fTa-iNyCK8oY",
        "colab_type": "text"
      },
      "source": [
        "## list:\n",
        "### it is one of the data structrue in python\n",
        "### Data structure means to store, sort & search options\n",
        "### It is a common data structure in python, the items in a list are seperated by comma and encolsed in [ ]\n",
        "### It can store different data types."
      ]
    },
    {
      "cell_type": "code",
      "metadata": {
        "id": "sDJAg4_FKOpZ",
        "colab_type": "code",
        "colab": {
          "base_uri": "https://localhost:8080/",
          "height": 51
        },
        "outputId": "d61db47c-e6a4-4862-ea8a-14852240bc00"
      },
      "source": [
        "## example\n",
        "list1=[1,3,6,2]\n",
        "print(list1)\n",
        "type(list1)"
      ],
      "execution_count": 1,
      "outputs": [
        {
          "output_type": "stream",
          "text": [
            "[1, 3, 6, 2]\n"
          ],
          "name": "stdout"
        },
        {
          "output_type": "execute_result",
          "data": {
            "text/plain": [
              "list"
            ]
          },
          "metadata": {
            "tags": []
          },
          "execution_count": 1
        }
      ]
    },
    {
      "cell_type": "code",
      "metadata": {
        "id": "2cN0hfytMg1c",
        "colab_type": "code",
        "colab": {
          "base_uri": "https://localhost:8080/",
          "height": 34
        },
        "outputId": "6d7ae0dc-11a5-45d7-a9f0-0951fc26be28"
      },
      "source": [
        "list2=[2,2.56,\"hi\",\"v\"]\n",
        "list2 "
      ],
      "execution_count": 2,
      "outputs": [
        {
          "output_type": "execute_result",
          "data": {
            "text/plain": [
              "[2, 2.56, 'hi', 'v']"
            ]
          },
          "metadata": {
            "tags": []
          },
          "execution_count": 2
        }
      ]
    },
    {
      "cell_type": "code",
      "metadata": {
        "id": "wpanoy7UM_kY",
        "colab_type": "code",
        "colab": {
          "base_uri": "https://localhost:8080/",
          "height": 153
        },
        "outputId": "d8617603-f37e-4584-f0c7-08c019dabbb0"
      },
      "source": [
        "# accessing list elements:\n",
        "list1=[1,3,6,2,4]\n",
        "print(list1[0])\n",
        "print(list1[-1])\n",
        "print(list1[0:3]) # start & stop values \n",
        "print(list1[0:5:2]) # start:stop:step (by def)\n",
        "print(list1[2:]) #starts from index 2 till end.\n",
        "print(list1[::2]) # starts from index 0 & ends with step 2\n",
        "print(list1[1::3])\n",
        "print(list1[3::])"
      ],
      "execution_count": 13,
      "outputs": [
        {
          "output_type": "stream",
          "text": [
            "1\n",
            "4\n",
            "[1, 3, 6]\n",
            "[1, 6, 4]\n",
            "[6, 2, 4]\n",
            "[1, 6, 4]\n",
            "[3, 4]\n",
            "[2, 4]\n"
          ],
          "name": "stdout"
        }
      ]
    },
    {
      "cell_type": "code",
      "metadata": {
        "id": "1YQoJOjoQBRF",
        "colab_type": "code",
        "colab": {
          "base_uri": "https://localhost:8080/",
          "height": 34
        },
        "outputId": "7c61038c-ac9d-42f2-9139-0e80c9bd7729"
      },
      "source": [
        "del list1[0]\n",
        "list1"
      ],
      "execution_count": 10,
      "outputs": [
        {
          "output_type": "execute_result",
          "data": {
            "text/plain": [
              "[3, 6, 2, 4]"
            ]
          },
          "metadata": {
            "tags": []
          },
          "execution_count": 10
        }
      ]
    },
    {
      "cell_type": "code",
      "metadata": {
        "id": "USYQbgrCSGSC",
        "colab_type": "code",
        "colab": {
          "base_uri": "https://localhost:8080/",
          "height": 68
        },
        "outputId": "c9a67c53-0df1-4fd6-da4b-ba04aba6cbf0"
      },
      "source": [
        "# basic list operation\n",
        "list2=[2,3,4,5]\n",
        "print(len(list2)) # gives length of the list\n",
        "print(list2 * 2) # gives the elements twice \n",
        "print(4 in list2) # shows if the numder is persent in tthe list or not"
      ],
      "execution_count": 17,
      "outputs": [
        {
          "output_type": "stream",
          "text": [
            "4\n",
            "[2, 3, 4, 5, 2, 3, 4, 5]\n",
            "True\n"
          ],
          "name": "stdout"
        }
      ]
    },
    {
      "cell_type": "code",
      "metadata": {
        "id": "_KA6X7SJTHSq",
        "colab_type": "code",
        "colab": {
          "base_uri": "https://localhost:8080/",
          "height": 85
        },
        "outputId": "90abf056-f109-427e-de73-c4455a971c0d"
      },
      "source": [
        "# accessing list elements in loop\n",
        "list2=[2,3,4,5]\n",
        "for i in range(len(list2)):\n",
        "  print(list2[i])"
      ],
      "execution_count": 20,
      "outputs": [
        {
          "output_type": "stream",
          "text": [
            "2\n",
            "3\n",
            "4\n",
            "5\n"
          ],
          "name": "stdout"
        }
      ]
    },
    {
      "cell_type": "code",
      "metadata": {
        "id": "_jxFZ9XQT2jR",
        "colab_type": "code",
        "colab": {}
      },
      "source": [
        "for i in [1,4,2,5]"
      ],
      "execution_count": 0,
      "outputs": []
    },
    {
      "cell_type": "code",
      "metadata": {
        "id": "7xmo9Ks3VPUS",
        "colab_type": "code",
        "colab": {
          "base_uri": "https://localhost:8080/",
          "height": 85
        },
        "outputId": "aaf5da7d-770c-4a35-9c9d-a9dba5a90239"
      },
      "source": [
        "#Basic list functions\n",
        "list=[1,3,4,5,6]\n",
        "print(max(list))\n",
        "print(min(list))\n",
        "print(sum(list))\n",
        "sum(list)/len(list) #gives the average of the list"
      ],
      "execution_count": 46,
      "outputs": [
        {
          "output_type": "stream",
          "text": [
            "6\n",
            "1\n",
            "19\n"
          ],
          "name": "stdout"
        },
        {
          "output_type": "execute_result",
          "data": {
            "text/plain": [
              "3.8"
            ]
          },
          "metadata": {
            "tags": []
          },
          "execution_count": 46
        }
      ]
    },
    {
      "cell_type": "code",
      "metadata": {
        "id": "NV72LBuVVg5S",
        "colab_type": "code",
        "colab": {
          "base_uri": "https://localhost:8080/",
          "height": 34
        },
        "outputId": "017605d0-3c56-4a88-b1e0-956a4bdd8c23"
      },
      "source": [
        "#list methods\n",
        "list=[1,3,4,1,6]\n",
        "list.append(7) # adds the element to the end of the list\n",
        "list\n",
        "list.insert(2,8) # \n",
        "list\n",
        "list.count(1) #\n",
        "list.pop() # gives the last index value\n",
        "list.pop(2) # removes the specified index value\n",
        "\n",
        "\n"
      ],
      "execution_count": 47,
      "outputs": [
        {
          "output_type": "execute_result",
          "data": {
            "text/plain": [
              "8"
            ]
          },
          "metadata": {
            "tags": []
          },
          "execution_count": 47
        }
      ]
    },
    {
      "cell_type": "code",
      "metadata": {
        "id": "0HrYOb0GYp8b",
        "colab_type": "code",
        "colab": {
          "base_uri": "https://localhost:8080/",
          "height": 34
        },
        "outputId": "f5633760-533f-4407-ad71-dd7173216899"
      },
      "source": [
        "list\n",
        "print()"
      ],
      "execution_count": 34,
      "outputs": [
        {
          "output_type": "stream",
          "text": [
            "\n"
          ],
          "name": "stdout"
        }
      ]
    },
    {
      "cell_type": "code",
      "metadata": {
        "id": "prai47iqXAie",
        "colab_type": "code",
        "colab": {
          "base_uri": "https://localhost:8080/",
          "height": 51
        },
        "outputId": "b446667d-660e-4941-f34e-40b7542fdcc7"
      },
      "source": [
        "list\n",
        "print(list)\n",
        "list.index(1) # gives the index value of the given numder\n",
        "list.extend([4,7])\n",
        "list"
      ],
      "execution_count": 48,
      "outputs": [
        {
          "output_type": "stream",
          "text": [
            "[1, 3, 4, 1, 6]\n"
          ],
          "name": "stdout"
        },
        {
          "output_type": "execute_result",
          "data": {
            "text/plain": [
              "[1, 3, 4, 1, 6, 4, 7]"
            ]
          },
          "metadata": {
            "tags": []
          },
          "execution_count": 48
        }
      ]
    },
    {
      "cell_type": "code",
      "metadata": {
        "id": "Q2HXBNE1a-Si",
        "colab_type": "code",
        "colab": {
          "base_uri": "https://localhost:8080/",
          "height": 51
        },
        "outputId": "3339e357-e129-41c1-a7f1-465003fde349"
      },
      "source": [
        "print(list)\n",
        "list3=[9,0,5]\n",
        "list.extend(list3)\n",
        "list"
      ],
      "execution_count": 49,
      "outputs": [
        {
          "output_type": "stream",
          "text": [
            "[1, 3, 4, 1, 6, 4, 7]\n"
          ],
          "name": "stdout"
        },
        {
          "output_type": "execute_result",
          "data": {
            "text/plain": [
              "[1, 3, 4, 1, 6, 4, 7, 9, 0, 5]"
            ]
          },
          "metadata": {
            "tags": []
          },
          "execution_count": 49
        }
      ]
    },
    {
      "cell_type": "code",
      "metadata": {
        "id": "sBTjBUjgbLBD",
        "colab_type": "code",
        "colab": {
          "base_uri": "https://localhost:8080/",
          "height": 34
        },
        "outputId": "893e90a8-7eef-4efb-e019-f5cf539734ef"
      },
      "source": [
        "list.reverse()\n",
        "list"
      ],
      "execution_count": 50,
      "outputs": [
        {
          "output_type": "execute_result",
          "data": {
            "text/plain": [
              "[5, 0, 9, 7, 4, 6, 1, 4, 3, 1]"
            ]
          },
          "metadata": {
            "tags": []
          },
          "execution_count": 50
        }
      ]
    },
    {
      "cell_type": "code",
      "metadata": {
        "id": "Wgv75r6ZbX0T",
        "colab_type": "code",
        "colab": {
          "base_uri": "https://localhost:8080/",
          "height": 34
        },
        "outputId": "1a7c0547-1ff3-4ea1-a869-2e5e4441271c"
      },
      "source": [
        "list.sort() # sorts the list elements increasing order\n",
        "list"
      ],
      "execution_count": 51,
      "outputs": [
        {
          "output_type": "execute_result",
          "data": {
            "text/plain": [
              "[0, 1, 1, 3, 4, 4, 5, 6, 7, 9]"
            ]
          },
          "metadata": {
            "tags": []
          },
          "execution_count": 51
        }
      ]
    },
    {
      "cell_type": "code",
      "metadata": {
        "id": "ZB6s8fU3bxtT",
        "colab_type": "code",
        "colab": {
          "base_uri": "https://localhost:8080/",
          "height": 34
        },
        "outputId": "c66955de-7eb3-4be8-d4f3-5d08b1a47c46"
      },
      "source": [
        "list[::-1] # to print the list in reverse order\n",
        "list"
      ],
      "execution_count": 52,
      "outputs": [
        {
          "output_type": "execute_result",
          "data": {
            "text/plain": [
              "[0, 1, 1, 3, 4, 4, 5, 6, 7, 9]"
            ]
          },
          "metadata": {
            "tags": []
          },
          "execution_count": 52
        }
      ]
    },
    {
      "cell_type": "code",
      "metadata": {
        "id": "ebo126vXcAUz",
        "colab_type": "code",
        "colab": {
          "base_uri": "https://localhost:8080/",
          "height": 1000
        },
        "outputId": "28feb04a-a724-4817-dc73-53408491e68d"
      },
      "source": [
        "help(\"list\")"
      ],
      "execution_count": 53,
      "outputs": [
        {
          "output_type": "stream",
          "text": [
            "Help on class list in module builtins:\n",
            "\n",
            "class list(object)\n",
            " |  list() -> new empty list\n",
            " |  list(iterable) -> new list initialized from iterable's items\n",
            " |  \n",
            " |  Methods defined here:\n",
            " |  \n",
            " |  __add__(self, value, /)\n",
            " |      Return self+value.\n",
            " |  \n",
            " |  __contains__(self, key, /)\n",
            " |      Return key in self.\n",
            " |  \n",
            " |  __delitem__(self, key, /)\n",
            " |      Delete self[key].\n",
            " |  \n",
            " |  __eq__(self, value, /)\n",
            " |      Return self==value.\n",
            " |  \n",
            " |  __ge__(self, value, /)\n",
            " |      Return self>=value.\n",
            " |  \n",
            " |  __getattribute__(self, name, /)\n",
            " |      Return getattr(self, name).\n",
            " |  \n",
            " |  __getitem__(...)\n",
            " |      x.__getitem__(y) <==> x[y]\n",
            " |  \n",
            " |  __gt__(self, value, /)\n",
            " |      Return self>value.\n",
            " |  \n",
            " |  __iadd__(self, value, /)\n",
            " |      Implement self+=value.\n",
            " |  \n",
            " |  __imul__(self, value, /)\n",
            " |      Implement self*=value.\n",
            " |  \n",
            " |  __init__(self, /, *args, **kwargs)\n",
            " |      Initialize self.  See help(type(self)) for accurate signature.\n",
            " |  \n",
            " |  __iter__(self, /)\n",
            " |      Implement iter(self).\n",
            " |  \n",
            " |  __le__(self, value, /)\n",
            " |      Return self<=value.\n",
            " |  \n",
            " |  __len__(self, /)\n",
            " |      Return len(self).\n",
            " |  \n",
            " |  __lt__(self, value, /)\n",
            " |      Return self<value.\n",
            " |  \n",
            " |  __mul__(self, value, /)\n",
            " |      Return self*value.\n",
            " |  \n",
            " |  __ne__(self, value, /)\n",
            " |      Return self!=value.\n",
            " |  \n",
            " |  __new__(*args, **kwargs) from builtins.type\n",
            " |      Create and return a new object.  See help(type) for accurate signature.\n",
            " |  \n",
            " |  __repr__(self, /)\n",
            " |      Return repr(self).\n",
            " |  \n",
            " |  __reversed__(...)\n",
            " |      L.__reversed__() -- return a reverse iterator over the list\n",
            " |  \n",
            " |  __rmul__(self, value, /)\n",
            " |      Return value*self.\n",
            " |  \n",
            " |  __setitem__(self, key, value, /)\n",
            " |      Set self[key] to value.\n",
            " |  \n",
            " |  __sizeof__(...)\n",
            " |      L.__sizeof__() -- size of L in memory, in bytes\n",
            " |  \n",
            " |  append(...)\n",
            " |      L.append(object) -> None -- append object to end\n",
            " |  \n",
            " |  clear(...)\n",
            " |      L.clear() -> None -- remove all items from L\n",
            " |  \n",
            " |  copy(...)\n",
            " |      L.copy() -> list -- a shallow copy of L\n",
            " |  \n",
            " |  count(...)\n",
            " |      L.count(value) -> integer -- return number of occurrences of value\n",
            " |  \n",
            " |  extend(...)\n",
            " |      L.extend(iterable) -> None -- extend list by appending elements from the iterable\n",
            " |  \n",
            " |  index(...)\n",
            " |      L.index(value, [start, [stop]]) -> integer -- return first index of value.\n",
            " |      Raises ValueError if the value is not present.\n",
            " |  \n",
            " |  insert(...)\n",
            " |      L.insert(index, object) -- insert object before index\n",
            " |  \n",
            " |  pop(...)\n",
            " |      L.pop([index]) -> item -- remove and return item at index (default last).\n",
            " |      Raises IndexError if list is empty or index is out of range.\n",
            " |  \n",
            " |  remove(...)\n",
            " |      L.remove(value) -> None -- remove first occurrence of value.\n",
            " |      Raises ValueError if the value is not present.\n",
            " |  \n",
            " |  reverse(...)\n",
            " |      L.reverse() -- reverse *IN PLACE*\n",
            " |  \n",
            " |  sort(...)\n",
            " |      L.sort(key=None, reverse=False) -> None -- stable sort *IN PLACE*\n",
            " |  \n",
            " |  ----------------------------------------------------------------------\n",
            " |  Data and other attributes defined here:\n",
            " |  \n",
            " |  __hash__ = None\n",
            "\n"
          ],
          "name": "stdout"
        }
      ]
    },
    {
      "cell_type": "markdown",
      "metadata": {
        "id": "Wlvw1L-dc0Pz",
        "colab_type": "text"
      },
      "source": [
        "# **Tuples**\n",
        "- ## they are encolsed in paranthesis()\n",
        "- ## tuples are immutable i.e,we can not modfify the elements in it\n",
        "\n",
        "## differences b/w list & tuples:\n",
        "- tuples---> () and list-----> []\n",
        "- list is mutable "
      ]
    },
    {
      "cell_type": "code",
      "metadata": {
        "id": "ZlGc5iC7eSlL",
        "colab_type": "code",
        "colab": {
          "base_uri": "https://localhost:8080/",
          "height": 51
        },
        "outputId": "ea03abc6-838a-4d01-ed9e-3f0338cebde7"
      },
      "source": [
        "tuple1=(2,1,3,5)\n",
        "print(tuple1)\n",
        "type(tuple1)"
      ],
      "execution_count": 54,
      "outputs": [
        {
          "output_type": "stream",
          "text": [
            "(2, 1, 3, 5)\n"
          ],
          "name": "stdout"
        },
        {
          "output_type": "execute_result",
          "data": {
            "text/plain": [
              "tuple"
            ]
          },
          "metadata": {
            "tags": []
          },
          "execution_count": 54
        }
      ]
    },
    {
      "cell_type": "code",
      "metadata": {
        "id": "_caTIgineoC8",
        "colab_type": "code",
        "colab": {
          "base_uri": "https://localhost:8080/",
          "height": 34
        },
        "outputId": "0b2e285c-94c5-42ae-eff9-053dc8182679"
      },
      "source": [
        "tuple2=(1,3.45,\"hi\",'tae')\n",
        "tuple2"
      ],
      "execution_count": 55,
      "outputs": [
        {
          "output_type": "execute_result",
          "data": {
            "text/plain": [
              "(1, 3.45, 'hi', 'tae')"
            ]
          },
          "metadata": {
            "tags": []
          },
          "execution_count": 55
        }
      ]
    },
    {
      "cell_type": "code",
      "metadata": {
        "id": "En7wiC6LcxS8",
        "colab_type": "code",
        "colab": {
          "base_uri": "https://localhost:8080/",
          "height": 1000
        },
        "outputId": "f80d3ab6-863c-499d-e89b-4a761a31ec31"
      },
      "source": [
        "help(\"tuple\")"
      ],
      "execution_count": 56,
      "outputs": [
        {
          "output_type": "stream",
          "text": [
            "Help on class tuple in module builtins:\n",
            "\n",
            "class tuple(object)\n",
            " |  tuple() -> empty tuple\n",
            " |  tuple(iterable) -> tuple initialized from iterable's items\n",
            " |  \n",
            " |  If the argument is a tuple, the return value is the same object.\n",
            " |  \n",
            " |  Methods defined here:\n",
            " |  \n",
            " |  __add__(self, value, /)\n",
            " |      Return self+value.\n",
            " |  \n",
            " |  __contains__(self, key, /)\n",
            " |      Return key in self.\n",
            " |  \n",
            " |  __eq__(self, value, /)\n",
            " |      Return self==value.\n",
            " |  \n",
            " |  __ge__(self, value, /)\n",
            " |      Return self>=value.\n",
            " |  \n",
            " |  __getattribute__(self, name, /)\n",
            " |      Return getattr(self, name).\n",
            " |  \n",
            " |  __getitem__(self, key, /)\n",
            " |      Return self[key].\n",
            " |  \n",
            " |  __getnewargs__(...)\n",
            " |  \n",
            " |  __gt__(self, value, /)\n",
            " |      Return self>value.\n",
            " |  \n",
            " |  __hash__(self, /)\n",
            " |      Return hash(self).\n",
            " |  \n",
            " |  __iter__(self, /)\n",
            " |      Implement iter(self).\n",
            " |  \n",
            " |  __le__(self, value, /)\n",
            " |      Return self<=value.\n",
            " |  \n",
            " |  __len__(self, /)\n",
            " |      Return len(self).\n",
            " |  \n",
            " |  __lt__(self, value, /)\n",
            " |      Return self<value.\n",
            " |  \n",
            " |  __mul__(self, value, /)\n",
            " |      Return self*value.\n",
            " |  \n",
            " |  __ne__(self, value, /)\n",
            " |      Return self!=value.\n",
            " |  \n",
            " |  __new__(*args, **kwargs) from builtins.type\n",
            " |      Create and return a new object.  See help(type) for accurate signature.\n",
            " |  \n",
            " |  __repr__(self, /)\n",
            " |      Return repr(self).\n",
            " |  \n",
            " |  __rmul__(self, value, /)\n",
            " |      Return value*self.\n",
            " |  \n",
            " |  count(...)\n",
            " |      T.count(value) -> integer -- return number of occurrences of value\n",
            " |  \n",
            " |  index(...)\n",
            " |      T.index(value, [start, [stop]]) -> integer -- return first index of value.\n",
            " |      Raises ValueError if the value is not present.\n",
            "\n"
          ],
          "name": "stdout"
        }
      ]
    },
    {
      "cell_type": "markdown",
      "metadata": {
        "id": "Vl5SejuCfl2L",
        "colab_type": "text"
      },
      "source": [
        "# dictionary\n",
        "- ## encolsed in {}.\n",
        "- ## it consists of key and value pairs seperated by (,).\n",
        "- ## keys must be unique where as values can be repeated.\n"
      ]
    },
    {
      "cell_type": "code",
      "metadata": {
        "id": "6l7jCxiLhAKF",
        "colab_type": "code",
        "colab": {
          "base_uri": "https://localhost:8080/",
          "height": 34
        },
        "outputId": "8dc1aa40-ee99-411e-af48-3eecefc8e38a"
      },
      "source": [
        "# examples:\n",
        "d1={\"band_name\":\"BTS\", \"fans_called\":\"ARMY\",\"my_acc_name\":\"kimvinitha17\"}\n",
        "d1"
      ],
      "execution_count": 61,
      "outputs": [
        {
          "output_type": "execute_result",
          "data": {
            "text/plain": [
              "{'band_name': 'BTS', 'fans_called': 'ARMY', 'my_acc_name': 'kimvinitha17'}"
            ]
          },
          "metadata": {
            "tags": []
          },
          "execution_count": 61
        }
      ]
    },
    {
      "cell_type": "code",
      "metadata": {
        "id": "1-58I0oTjgev",
        "colab_type": "code",
        "colab": {
          "base_uri": "https://localhost:8080/",
          "height": 34
        },
        "outputId": "753df767-f1e2-4815-a3c9-27ca63cc1c2e"
      },
      "source": [
        "d1[\"band_name\"]"
      ],
      "execution_count": 62,
      "outputs": [
        {
          "output_type": "execute_result",
          "data": {
            "text/plain": [
              "'BTS'"
            ]
          },
          "metadata": {
            "tags": []
          },
          "execution_count": 62
        }
      ]
    },
    {
      "cell_type": "code",
      "metadata": {
        "id": "eFuFxLsUjrg8",
        "colab_type": "code",
        "colab": {
          "base_uri": "https://localhost:8080/",
          "height": 85
        },
        "outputId": "466e0ce0-1c33-4120-8466-1336a0b7baaf"
      },
      "source": [
        "d1[\"age\"]=20\n",
        "d1"
      ],
      "execution_count": 64,
      "outputs": [
        {
          "output_type": "execute_result",
          "data": {
            "text/plain": [
              "{'age': 20,\n",
              " 'band_name': 'BTS',\n",
              " 'fans_called': 'ARMY',\n",
              " 'my_acc_name': 'kimvinitha17'}"
            ]
          },
          "metadata": {
            "tags": []
          },
          "execution_count": 64
        }
      ]
    },
    {
      "cell_type": "code",
      "metadata": {
        "id": "G6JFpJ5ukMgz",
        "colab_type": "code",
        "colab": {
          "base_uri": "https://localhost:8080/",
          "height": 34
        },
        "outputId": "dd615b79-6598-4c0f-8ba4-551770dbaf14"
      },
      "source": [
        "d1[\"age\"]=20 # for adding another entry\n",
        "print(d1)"
      ],
      "execution_count": 65,
      "outputs": [
        {
          "output_type": "stream",
          "text": [
            "{'band_name': 'BTS', 'fans_called': 'ARMY', 'my_acc_name': 'kimvinitha17', 'age': 20}\n"
          ],
          "name": "stdout"
        }
      ]
    },
    {
      "cell_type": "code",
      "metadata": {
        "id": "jkpDhFAYlrxc",
        "colab_type": "code",
        "colab": {
          "base_uri": "https://localhost:8080/",
          "height": 34
        },
        "outputId": "6dd8ecfa-9dff-4eb5-9c38-b3ecffbc2b3e"
      },
      "source": [
        "d1.keys() # dispalys all keys from the dictionary\n",
        "d1.values() # dispalys all values from the dictionary"
      ],
      "execution_count": 67,
      "outputs": [
        {
          "output_type": "execute_result",
          "data": {
            "text/plain": [
              "dict_values(['BTS', 'ARMY', 'kimvinitha17', 20])"
            ]
          },
          "metadata": {
            "tags": []
          },
          "execution_count": 67
        }
      ]
    },
    {
      "cell_type": "code",
      "metadata": {
        "id": "XKSe7uAFmMUU",
        "colab_type": "code",
        "colab": {
          "base_uri": "https://localhost:8080/",
          "height": 34
        },
        "outputId": "21219a51-fab2-42c7-b628-5eab366fc8c2"
      },
      "source": [
        "d1.items() # retrun complete pairs from the dictionary"
      ],
      "execution_count": 68,
      "outputs": [
        {
          "output_type": "execute_result",
          "data": {
            "text/plain": [
              "dict_items([('band_name', 'BTS'), ('fans_called', 'ARMY'), ('my_acc_name', 'kimvinitha17'), ('age', 20)])"
            ]
          },
          "metadata": {
            "tags": []
          },
          "execution_count": 68
        }
      ]
    },
    {
      "cell_type": "code",
      "metadata": {
        "id": "mUvL5JfdmgRm",
        "colab_type": "code",
        "colab": {
          "base_uri": "https://localhost:8080/",
          "height": 197
        },
        "outputId": "744af012-2062-4a0f-de12-59fecbff2532"
      },
      "source": [
        "d1={\"band_name\":\"BTS\", \"fans_called\":\"ARMY\",\"my_acc_name\":\"kimvinitha17\"}\n",
        "delitem [\"age\"] # deletes the value corresponding to the key name\n",
        "d1"
      ],
      "execution_count": 75,
      "outputs": [
        {
          "output_type": "error",
          "ename": "NameError",
          "evalue": "ignored",
          "traceback": [
            "\u001b[0;31m---------------------------------------------------------------------------\u001b[0m",
            "\u001b[0;31mNameError\u001b[0m                                 Traceback (most recent call last)",
            "\u001b[0;32m<ipython-input-75-75375a7faf03>\u001b[0m in \u001b[0;36m<module>\u001b[0;34m()\u001b[0m\n\u001b[1;32m      1\u001b[0m \u001b[0md1\u001b[0m\u001b[0;34m=\u001b[0m\u001b[0;34m{\u001b[0m\u001b[0;34m\"band_name\"\u001b[0m\u001b[0;34m:\u001b[0m\u001b[0;34m\"BTS\"\u001b[0m\u001b[0;34m,\u001b[0m \u001b[0;34m\"fans_called\"\u001b[0m\u001b[0;34m:\u001b[0m\u001b[0;34m\"ARMY\"\u001b[0m\u001b[0;34m,\u001b[0m\u001b[0;34m\"my_acc_name\"\u001b[0m\u001b[0;34m:\u001b[0m\u001b[0;34m\"kimvinitha17\"\u001b[0m\u001b[0;34m}\u001b[0m\u001b[0;34m\u001b[0m\u001b[0;34m\u001b[0m\u001b[0m\n\u001b[0;32m----> 2\u001b[0;31m \u001b[0mdelitem\u001b[0m \u001b[0;34m[\u001b[0m\u001b[0;34m\"age\"\u001b[0m\u001b[0;34m]\u001b[0m \u001b[0;31m# deletes the value corresponding to the key name\u001b[0m\u001b[0;34m\u001b[0m\u001b[0;34m\u001b[0m\u001b[0m\n\u001b[0m\u001b[1;32m      3\u001b[0m \u001b[0md1\u001b[0m\u001b[0;34m\u001b[0m\u001b[0;34m\u001b[0m\u001b[0m\n",
            "\u001b[0;31mNameError\u001b[0m: name 'delitem' is not defined"
          ]
        }
      ]
    },
    {
      "cell_type": "code",
      "metadata": {
        "id": "50FIQ3vAnEkO",
        "colab_type": "code",
        "colab": {
          "base_uri": "https://localhost:8080/",
          "height": 1000
        },
        "outputId": "65a38a93-fe2a-4fc9-f177-4bae020e4363"
      },
      "source": [
        "help(dict)"
      ],
      "execution_count": 72,
      "outputs": [
        {
          "output_type": "stream",
          "text": [
            "Help on class dict in module builtins:\n",
            "\n",
            "class dict(object)\n",
            " |  dict() -> new empty dictionary\n",
            " |  dict(mapping) -> new dictionary initialized from a mapping object's\n",
            " |      (key, value) pairs\n",
            " |  dict(iterable) -> new dictionary initialized as if via:\n",
            " |      d = {}\n",
            " |      for k, v in iterable:\n",
            " |          d[k] = v\n",
            " |  dict(**kwargs) -> new dictionary initialized with the name=value pairs\n",
            " |      in the keyword argument list.  For example:  dict(one=1, two=2)\n",
            " |  \n",
            " |  Methods defined here:\n",
            " |  \n",
            " |  __contains__(self, key, /)\n",
            " |      True if D has a key k, else False.\n",
            " |  \n",
            " |  __delitem__(self, key, /)\n",
            " |      Delete self[key].\n",
            " |  \n",
            " |  __eq__(self, value, /)\n",
            " |      Return self==value.\n",
            " |  \n",
            " |  __ge__(self, value, /)\n",
            " |      Return self>=value.\n",
            " |  \n",
            " |  __getattribute__(self, name, /)\n",
            " |      Return getattr(self, name).\n",
            " |  \n",
            " |  __getitem__(...)\n",
            " |      x.__getitem__(y) <==> x[y]\n",
            " |  \n",
            " |  __gt__(self, value, /)\n",
            " |      Return self>value.\n",
            " |  \n",
            " |  __init__(self, /, *args, **kwargs)\n",
            " |      Initialize self.  See help(type(self)) for accurate signature.\n",
            " |  \n",
            " |  __iter__(self, /)\n",
            " |      Implement iter(self).\n",
            " |  \n",
            " |  __le__(self, value, /)\n",
            " |      Return self<=value.\n",
            " |  \n",
            " |  __len__(self, /)\n",
            " |      Return len(self).\n",
            " |  \n",
            " |  __lt__(self, value, /)\n",
            " |      Return self<value.\n",
            " |  \n",
            " |  __ne__(self, value, /)\n",
            " |      Return self!=value.\n",
            " |  \n",
            " |  __new__(*args, **kwargs) from builtins.type\n",
            " |      Create and return a new object.  See help(type) for accurate signature.\n",
            " |  \n",
            " |  __repr__(self, /)\n",
            " |      Return repr(self).\n",
            " |  \n",
            " |  __setitem__(self, key, value, /)\n",
            " |      Set self[key] to value.\n",
            " |  \n",
            " |  __sizeof__(...)\n",
            " |      D.__sizeof__() -> size of D in memory, in bytes\n",
            " |  \n",
            " |  clear(...)\n",
            " |      D.clear() -> None.  Remove all items from D.\n",
            " |  \n",
            " |  copy(...)\n",
            " |      D.copy() -> a shallow copy of D\n",
            " |  \n",
            " |  fromkeys(iterable, value=None, /) from builtins.type\n",
            " |      Returns a new dict with keys from iterable and values equal to value.\n",
            " |  \n",
            " |  get(...)\n",
            " |      D.get(k[,d]) -> D[k] if k in D, else d.  d defaults to None.\n",
            " |  \n",
            " |  items(...)\n",
            " |      D.items() -> a set-like object providing a view on D's items\n",
            " |  \n",
            " |  keys(...)\n",
            " |      D.keys() -> a set-like object providing a view on D's keys\n",
            " |  \n",
            " |  pop(...)\n",
            " |      D.pop(k[,d]) -> v, remove specified key and return the corresponding value.\n",
            " |      If key is not found, d is returned if given, otherwise KeyError is raised\n",
            " |  \n",
            " |  popitem(...)\n",
            " |      D.popitem() -> (k, v), remove and return some (key, value) pair as a\n",
            " |      2-tuple; but raise KeyError if D is empty.\n",
            " |  \n",
            " |  setdefault(...)\n",
            " |      D.setdefault(k[,d]) -> D.get(k,d), also set D[k]=d if k not in D\n",
            " |  \n",
            " |  update(...)\n",
            " |      D.update([E, ]**F) -> None.  Update D from dict/iterable E and F.\n",
            " |      If E is present and has a .keys() method, then does:  for k in E: D[k] = E[k]\n",
            " |      If E is present and lacks a .keys() method, then does:  for k, v in E: D[k] = v\n",
            " |      In either case, this is followed by: for k in F:  D[k] = F[k]\n",
            " |  \n",
            " |  values(...)\n",
            " |      D.values() -> an object providing a view on D's values\n",
            " |  \n",
            " |  ----------------------------------------------------------------------\n",
            " |  Data and other attributes defined here:\n",
            " |  \n",
            " |  __hash__ = None\n",
            "\n"
          ],
          "name": "stdout"
        }
      ]
    },
    {
      "cell_type": "markdown",
      "metadata": {
        "id": "y3HubLZooU-m",
        "colab_type": "text"
      },
      "source": [
        "## 1.function to find factorial of a number\n",
        "## 2. function to check for strong number or not"
      ]
    },
    {
      "cell_type": "code",
      "metadata": {
        "id": "NrTkOkLJotSH",
        "colab_type": "code",
        "colab": {
          "base_uri": "https://localhost:8080/",
          "height": 34
        },
        "outputId": "30f3d5b1-017c-4529-c58e-9c7c6010c1be"
      },
      "source": [
        "# factorial\n",
        "def factorial(n):\n",
        "  fact=1\n",
        "  i=1\n",
        "  while i<=n:\n",
        "    fact=fact*i\n",
        "    i=i+1\n",
        "  return fact\n",
        "factorial(5)\n"
      ],
      "execution_count": 79,
      "outputs": [
        {
          "output_type": "execute_result",
          "data": {
            "text/plain": [
              "120"
            ]
          },
          "metadata": {
            "tags": []
          },
          "execution_count": 79
        }
      ]
    },
    {
      "cell_type": "code",
      "metadata": {
        "id": "TrVRLfCTqODg",
        "colab_type": "code",
        "colab": {
          "base_uri": "https://localhost:8080/",
          "height": 34
        },
        "outputId": "eaa2ce52-b36b-47f7-a44f-b03d03089555"
      },
      "source": [
        "# strong number\n",
        "def digit_factor_sum(n):\n",
        "  s=0\n",
        "  buffer=n\n",
        "  while n!=0:\n",
        "    r=n%10\n",
        "    s= s+factorial(r)\n",
        "    n=n//10\n",
        "  if buffer==s:\n",
        "    print(\"It is a strong number\")\n",
        "  else:\n",
        "    print(\"not a strong number \")\n",
        "digit_factor_sum(145)\n"
      ],
      "execution_count": 81,
      "outputs": [
        {
          "output_type": "stream",
          "text": [
            "It is a strong number\n"
          ],
          "name": "stdout"
        }
      ]
    },
    {
      "cell_type": "markdown",
      "metadata": {
        "id": "QY9HEMFuwMw1",
        "colab_type": "text"
      },
      "source": [
        "# strings:"
      ]
    },
    {
      "cell_type": "code",
      "metadata": {
        "id": "qZ1D3PSOw9Dh",
        "colab_type": "code",
        "colab": {
          "base_uri": "https://localhost:8080/",
          "height": 51
        },
        "outputId": "84b82c88-9869-4afa-c827-b7d0ab11ad21"
      },
      "source": [
        "s1=\"python\"\n",
        "print(s1)\n",
        "type(s1)"
      ],
      "execution_count": 82,
      "outputs": [
        {
          "output_type": "stream",
          "text": [
            "python\n"
          ],
          "name": "stdout"
        },
        {
          "output_type": "execute_result",
          "data": {
            "text/plain": [
              "str"
            ]
          },
          "metadata": {
            "tags": []
          },
          "execution_count": 82
        }
      ]
    },
    {
      "cell_type": "code",
      "metadata": {
        "id": "APFTlvjiwMMz",
        "colab_type": "code",
        "colab": {
          "base_uri": "https://localhost:8080/",
          "height": 119
        },
        "outputId": "62d9bc85-7579-4baf-9d65-2597e94caba0"
      },
      "source": [
        "# accessing the first character\n",
        "print(s1[0]) # print the 1st char\n",
        "print(s1[-1]) # print the last char\n",
        "print(s1[2:5]) # returns the char b/w specified values\n",
        "print(s1[::2]) # skips one char from the previous char\n",
        "print(s1[::3]) # skips every 2 chars in b/w\n",
        "print (s1[::4]) # skips every 3 chars in b/w\n"
      ],
      "execution_count": 83,
      "outputs": [
        {
          "output_type": "stream",
          "text": [
            "p\n",
            "n\n",
            "tho\n",
            "pto\n",
            "ph\n",
            "po\n"
          ],
          "name": "stdout"
        }
      ]
    },
    {
      "cell_type": "code",
      "metadata": {
        "id": "Y-Hy0dgCyrv7",
        "colab_type": "code",
        "colab": {
          "base_uri": "https://localhost:8080/",
          "height": 119
        },
        "outputId": "59722ebe-bd6f-4200-926c-aa3736ea33fa"
      },
      "source": [
        "s1=\"python\"\n",
        "print(s1)\n",
        "print(s1[1:])\n",
        "print(s1[3:]) # prints from index 3\n",
        "print(s1[:4]) # prints from index 0 to index 3\n",
        "print(s1[-2:]) # prints the last -1 & -2\n",
        "print(s1[1: -1]) # prints b/w index 0 & -1(last one)"
      ],
      "execution_count": 86,
      "outputs": [
        {
          "output_type": "stream",
          "text": [
            "python\n",
            "ython\n",
            "hon\n",
            "pyth\n",
            "on\n",
            "ytho\n"
          ],
          "name": "stdout"
        }
      ]
    },
    {
      "cell_type": "code",
      "metadata": {
        "id": "17J-FzTl0oQZ",
        "colab_type": "code",
        "colab": {
          "base_uri": "https://localhost:8080/",
          "height": 34
        },
        "outputId": "e8c4bce1-6554-427c-cc1f-0813c47cda53"
      },
      "source": [
        "s1[0:5:2]"
      ],
      "execution_count": 88,
      "outputs": [
        {
          "output_type": "execute_result",
          "data": {
            "text/plain": [
              "'pto'"
            ]
          },
          "metadata": {
            "tags": []
          },
          "execution_count": 88
        }
      ]
    },
    {
      "cell_type": "code",
      "metadata": {
        "id": "fVVSAjJnz9xG",
        "colab_type": "code",
        "colab": {
          "base_uri": "https://localhost:8080/",
          "height": 85
        },
        "outputId": "0bbdd6ec-5680-4615-9ebf-5606b4988ed8"
      },
      "source": [
        "str1=input(\" \")\n",
        "print(str1)\n",
        "print(str1[::-1])\n",
        "if str1==str1[::-1]:\n",
        "  print(\"It is a plaindrome\")\n",
        "else:\n",
        "  print(\"It is not a palaindrome\")"
      ],
      "execution_count": 90,
      "outputs": [
        {
          "output_type": "stream",
          "text": [
            " vinitha\n",
            "vinitha\n",
            "ahtiniv\n",
            "It is not a palaindrome\n"
          ],
          "name": "stdout"
        }
      ]
    },
    {
      "cell_type": "code",
      "metadata": {
        "id": "WwTDiWCb19sd",
        "colab_type": "code",
        "colab": {
          "base_uri": "https://localhost:8080/",
          "height": 119
        },
        "outputId": "4a32619e-1ee3-483d-8e49-03ac18fe7b94"
      },
      "source": [
        "# buildin methods in strings:\n",
        "s1= \"vinitha\"\n",
        "s2=\"kim17v\"\n",
        "s3=\"1721\"\n",
        "print(s1.upper()) \n",
        "print(s1.lower())\n",
        "print(s1.isnumeric())\n",
        "print(s2.isnumeric())\n",
        "print(s3.isnumeric())\n",
        "print(s2.isalpha())"
      ],
      "execution_count": 94,
      "outputs": [
        {
          "output_type": "stream",
          "text": [
            "VINITHA\n",
            "vinitha\n",
            "False\n",
            "False\n",
            "True\n",
            "False\n"
          ],
          "name": "stdout"
        }
      ]
    },
    {
      "cell_type": "code",
      "metadata": {
        "id": "8L2K7gLm3adt",
        "colab_type": "code",
        "colab": {
          "base_uri": "https://localhost:8080/",
          "height": 68
        },
        "outputId": "9a5c498d-c2f6-464d-c32e-6f96a8e6f115"
      },
      "source": [
        "s1= \"vinitha\"\n",
        "s2=\"kim17v\"\n",
        "s3=\"1721\"\n",
        "print(\" \".join(s2))\n",
        "print(\",\".join(s3))\n",
        "print(\"#\".join(s1))"
      ],
      "execution_count": 99,
      "outputs": [
        {
          "output_type": "stream",
          "text": [
            "k i m 1 7 v\n",
            "1,7,2,1\n",
            "v#i#n#i#t#h#a\n"
          ],
          "name": "stdout"
        }
      ]
    }
  ]
}
{
  "nbformat": 4,
  "nbformat_minor": 0,
  "metadata": {
    "colab": {
      "name": "python(day1)H/W",
      "provenance": [],
      "collapsed_sections": []
    },
    "kernelspec": {
      "name": "python3",
      "display_name": "Python 3"
    }
  },
  "cells": [
    {
      "cell_type": "code",
      "metadata": {
        "id": "k8-aNWhmAfIF",
        "colab_type": "code",
        "colab": {}
      },
      "source": [
        ""
      ],
      "execution_count": 0,
      "outputs": []
    },
    {
      "cell_type": "code",
      "metadata": {
        "id": "EoiTLLciA6Xl",
        "colab_type": "code",
        "colab": {}
      },
      "source": [
        ""
      ],
      "execution_count": 0,
      "outputs": []
    },
    {
      "cell_type": "markdown",
      "metadata": {
        "id": "u_xJnHF3BJc7",
        "colab_type": "text"
      },
      "source": [
        ""
      ]
    },
    {
      "cell_type": "code",
      "metadata": {
        "id": "aHcOZAQVBLrM",
        "colab_type": "code",
        "colab": {}
      },
      "source": [
        ""
      ],
      "execution_count": 0,
      "outputs": []
    },
    {
      "cell_type": "markdown",
      "metadata": {
        "id": "7_qHMp4wBO07",
        "colab_type": "text"
      },
      "source": [
        "# markdown\n",
        "## markdown\n",
        "* *point*\n",
        "* **point**\n",
        "* ***point***\n",
        "- heading\n",
        "\n",
        "    - subheading\n"
      ]
    },
    {
      "cell_type": "markdown",
      "metadata": {
        "id": "mDj_MwzBEjVC",
        "colab_type": "text"
      },
      "source": [
        "![image](data:image/jpeg;base64,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)"
      ]
    },
    {
      "cell_type": "markdown",
      "metadata": {
        "id": "yDq3WRPTFlcU",
        "colab_type": "text"
      },
      "source": [
        "* [my drive](https://drive.google.com/drive/my-drive)"
      ]
    },
    {
      "cell_type": "markdown",
      "metadata": {
        "id": "RRXtgFdeF_A2",
        "colab_type": "text"
      },
      "source": [
        "[1](https://drive.google.com/drive/my-drive)"
      ]
    },
    {
      "cell_type": "markdown",
      "metadata": {
        "id": "L1C1ZwXmE_Ek",
        "colab_type": "text"
      },
      "source": [
        "* "
      ]
    },
    {
      "cell_type": "code",
      "metadata": {
        "id": "4yCEbaMMG66_",
        "colab_type": "code",
        "outputId": "76eb1779-09bb-4c74-8ae8-ffe963848df9",
        "colab": {
          "base_uri": "https://localhost:8080/",
          "height": 34
        }
      },
      "source": [
        "print(\"hello,gitam\")"
      ],
      "execution_count": 0,
      "outputs": [
        {
          "output_type": "stream",
          "text": [
            "hello,gitam\n"
          ],
          "name": "stdout"
        }
      ]
    },
    {
      "cell_type": "code",
      "metadata": {
        "id": "Q_3mjoFNHY_M",
        "colab_type": "code",
        "outputId": "a3a685c1-2112-4f8d-f5cb-64cda718dd00",
        "colab": {
          "base_uri": "https://localhost:8080/",
          "height": 34
        }
      },
      "source": [
        "print(\"hello,gitam\",end=\"||\")\n",
        "print(\"good morning\")"
      ],
      "execution_count": 0,
      "outputs": [
        {
          "output_type": "stream",
          "text": [
            "hello,gitam||good morning\n"
          ],
          "name": "stdout"
        }
      ]
    },
    {
      "cell_type": "code",
      "metadata": {
        "id": "8K9bmkNAIeAs",
        "colab_type": "code",
        "outputId": "cc965786-8e0f-4deb-e353-c7df19ff1a87",
        "colab": {
          "base_uri": "https://localhost:8080/",
          "height": 34
        }
      },
      "source": [
        "a=10\n",
        "a,b == 3\n",
        "a,b,c=2,4,7\n",
        "print(a,b,c)\n",
        "\n"
      ],
      "execution_count": 0,
      "outputs": [
        {
          "output_type": "stream",
          "text": [
            "2 4 7\n"
          ],
          "name": "stdout"
        }
      ]
    },
    {
      "cell_type": "code",
      "metadata": {
        "id": "Z-3tevvCMSes",
        "colab_type": "code",
        "outputId": "db45239d-4e14-4b03-e662-bac6bf28089e",
        "colab": {
          "base_uri": "https://localhost:8080/",
          "height": 51
        }
      },
      "source": [
        "a=10.5\n",
        "print(type(a))\n",
        "id(a)"
      ],
      "execution_count": 0,
      "outputs": [
        {
          "output_type": "stream",
          "text": [
            "<class 'float'>\n"
          ],
          "name": "stdout"
        },
        {
          "output_type": "execute_result",
          "data": {
            "text/plain": [
              "140131941161000"
            ]
          },
          "metadata": {
            "tags": []
          },
          "execution_count": 10
        }
      ]
    },
    {
      "cell_type": "code",
      "metadata": {
        "id": "c-eXSHfdMvgs",
        "colab_type": "code",
        "outputId": "dcdfc426-972f-4f57-8376-aaf9a1ae9230",
        "colab": {
          "base_uri": "https://localhost:8080/",
          "height": 34
        }
      },
      "source": [
        "name = \"vinitha\"\n",
        "age = \"20\"\n",
        "print(\"my name is\",name,end=\" & \")\n",
        "print(\"my age is\",age)"
      ],
      "execution_count": 0,
      "outputs": [
        {
          "output_type": "stream",
          "text": [
            "my name is vinitha & my age is 20\n"
          ],
          "name": "stdout"
        }
      ]
    },
    {
      "cell_type": "code",
      "metadata": {
        "id": "SIgu8eR3QbcA",
        "colab_type": "code",
        "outputId": "2a0d4c0f-b458-4633-88fc-1ab94c6b6073",
        "colab": {
          "base_uri": "https://localhost:8080/",
          "height": 51
        }
      },
      "source": [
        "a=input(\"enter a string\")\n",
        "type(a)"
      ],
      "execution_count": 0,
      "outputs": [
        {
          "output_type": "stream",
          "text": [
            "enter a vaulevini\n"
          ],
          "name": "stdout"
        },
        {
          "output_type": "execute_result",
          "data": {
            "text/plain": [
              "str"
            ]
          },
          "metadata": {
            "tags": []
          },
          "execution_count": 25
        }
      ]
    },
    {
      "cell_type": "code",
      "metadata": {
        "id": "ZG98wsMrReic",
        "colab_type": "code",
        "outputId": "17338448-3ab2-4f01-9bc6-7b60831a9aca",
        "colab": {
          "base_uri": "https://localhost:8080/",
          "height": 68
        }
      },
      "source": [
        "b=int(input(\"enter 1st vaule:\"))\n",
        "c=float(input(\"enter 2nd vaule:\"))\n",
        "d=b+c\n",
        "print(d)"
      ],
      "execution_count": 0,
      "outputs": [
        {
          "output_type": "stream",
          "text": [
            "enter 1st vaule:67\n",
            "enter 2nd vaule:56.098\n",
            "123.098\n"
          ],
          "name": "stdout"
        }
      ]
    },
    {
      "cell_type": "code",
      "metadata": {
        "id": "R0X1Bf-mTqk0",
        "colab_type": "code",
        "outputId": "7f0e5bd2-3332-4d08-e40a-1b580cf9e306",
        "colab": {
          "base_uri": "https://localhost:8080/",
          "height": 51
        }
      },
      "source": [
        "y=1.2\n",
        "print(y)\n",
        "type(y)"
      ],
      "execution_count": 0,
      "outputs": [
        {
          "output_type": "stream",
          "text": [
            "1.2\n"
          ],
          "name": "stdout"
        },
        {
          "output_type": "execute_result",
          "data": {
            "text/plain": [
              "float"
            ]
          },
          "metadata": {
            "tags": []
          },
          "execution_count": 29
        }
      ]
    },
    {
      "cell_type": "code",
      "metadata": {
        "id": "ZcUoGXwmUVft",
        "colab_type": "code",
        "outputId": "9d36535b-c95e-4c3e-a505-a7e03a89af96",
        "colab": {
          "base_uri": "https://localhost:8080/",
          "height": 51
        }
      },
      "source": [
        "z=23+3j\n",
        "print(z)\n",
        "type(z)"
      ],
      "execution_count": 0,
      "outputs": [
        {
          "output_type": "stream",
          "text": [
            "(23+3j)\n"
          ],
          "name": "stdout"
        },
        {
          "output_type": "execute_result",
          "data": {
            "text/plain": [
              "complex"
            ]
          },
          "metadata": {
            "tags": []
          },
          "execution_count": 31
        }
      ]
    },
    {
      "cell_type": "code",
      "metadata": {
        "id": "uAN2XGhOUo8U",
        "colab_type": "code",
        "outputId": "c2202421-a27f-4d7d-c6f1-fa71e6064ec3",
        "colab": {
          "base_uri": "https://localhost:8080/",
          "height": 34
        }
      },
      "source": [
        "x=float(34)\n",
        "x"
      ],
      "execution_count": 0,
      "outputs": [
        {
          "output_type": "execute_result",
          "data": {
            "text/plain": [
              "34.0"
            ]
          },
          "metadata": {
            "tags": []
          },
          "execution_count": 32
        }
      ]
    },
    {
      "cell_type": "code",
      "metadata": {
        "id": "45-YmXQkU1WP",
        "colab_type": "code",
        "outputId": "f47ebdf4-0b7c-457d-9dbf-9aaec963d9de",
        "colab": {
          "base_uri": "https://localhost:8080/",
          "height": 34
        }
      },
      "source": [
        "y=complex(56,6)\n",
        "y"
      ],
      "execution_count": 0,
      "outputs": [
        {
          "output_type": "execute_result",
          "data": {
            "text/plain": [
              "(56+6j)"
            ]
          },
          "metadata": {
            "tags": []
          },
          "execution_count": 34
        }
      ]
    },
    {
      "cell_type": "code",
      "metadata": {
        "id": "CJ8PW1evVIAx",
        "colab_type": "code",
        "outputId": "502ee71c-fdf5-4495-e900-ffb53efb7e77",
        "colab": {
          "base_uri": "https://localhost:8080/",
          "height": 68
        }
      },
      "source": [
        "c1=2+9j\n",
        "c2=7+1j\n",
        "print(c1+c2)\n",
        "print(c1-c2)\n",
        "print(c1*c2)"
      ],
      "execution_count": 0,
      "outputs": [
        {
          "output_type": "stream",
          "text": [
            "(9+10j)\n",
            "(-5+8j)\n",
            "(5+65j)\n"
          ],
          "name": "stdout"
        }
      ]
    },
    {
      "cell_type": "code",
      "metadata": {
        "id": "dG-QG02IWJtF",
        "colab_type": "code",
        "outputId": "1b76976d-dca8-47e8-99c0-591c3d5143f2",
        "colab": {
          "base_uri": "https://localhost:8080/",
          "height": 34
        }
      },
      "source": [
        "a=True\n",
        "type(a)"
      ],
      "execution_count": 0,
      "outputs": [
        {
          "output_type": "execute_result",
          "data": {
            "text/plain": [
              "bool"
            ]
          },
          "metadata": {
            "tags": []
          },
          "execution_count": 36
        }
      ]
    },
    {
      "cell_type": "code",
      "metadata": {
        "id": "SdG2QNj-WdWP",
        "colab_type": "code",
        "outputId": "2605bbbb-5619-4273-b4fa-a6feeb992c27",
        "colab": {
          "base_uri": "https://localhost:8080/",
          "height": 34
        }
      },
      "source": [
        "a>b"
      ],
      "execution_count": 0,
      "outputs": [
        {
          "output_type": "execute_result",
          "data": {
            "text/plain": [
              "False"
            ]
          },
          "metadata": {
            "tags": []
          },
          "execution_count": 37
        }
      ]
    },
    {
      "cell_type": "code",
      "metadata": {
        "id": "SAW4CiaZXSV9",
        "colab_type": "code",
        "outputId": "846e357b-ddd7-4fae-fd7b-586caa671d47",
        "colab": {
          "base_uri": "https://localhost:8080/",
          "height": 51
        }
      },
      "source": [
        "s1=\"vini\"\n",
        "s2='kittu'\n",
        "print(s1)\n",
        "s2"
      ],
      "execution_count": 0,
      "outputs": [
        {
          "output_type": "stream",
          "text": [
            "vini\n"
          ],
          "name": "stdout"
        },
        {
          "output_type": "execute_result",
          "data": {
            "text/plain": [
              "'kittu'"
            ]
          },
          "metadata": {
            "tags": []
          },
          "execution_count": 38
        }
      ]
    },
    {
      "cell_type": "code",
      "metadata": {
        "id": "iqEgoy3lXqkK",
        "colab_type": "code",
        "outputId": "064bfc69-abc6-4274-bdd3-b4a4d26a418b",
        "colab": {
          "base_uri": "https://localhost:8080/",
          "height": 34
        }
      },
      "source": [
        "i=100\n",
        "i\n",
        "type(i)"
      ],
      "execution_count": 0,
      "outputs": [
        {
          "output_type": "execute_result",
          "data": {
            "text/plain": [
              "int"
            ]
          },
          "metadata": {
            "tags": []
          },
          "execution_count": 40
        }
      ]
    },
    {
      "cell_type": "code",
      "metadata": {
        "id": "wWogtatoX4n1",
        "colab_type": "code",
        "outputId": "dc3a5d32-0dbf-44e8-db1c-13f35a7a35da",
        "colab": {
          "base_uri": "https://localhost:8080/",
          "height": 51
        }
      },
      "source": [
        "s1=str(i) # str converts d i/p into a string\n",
        "print(s1)\n",
        "type(s1)\n"
      ],
      "execution_count": 0,
      "outputs": [
        {
          "output_type": "stream",
          "text": [
            "100\n"
          ],
          "name": "stdout"
        },
        {
          "output_type": "execute_result",
          "data": {
            "text/plain": [
              "str"
            ]
          },
          "metadata": {
            "tags": []
          },
          "execution_count": 42
        }
      ]
    },
    {
      "cell_type": "code",
      "metadata": {
        "id": "pDJWfMohYgGH",
        "colab_type": "code",
        "outputId": "4c4d6f8a-b331-4022-e557-6593998f4201",
        "colab": {
          "base_uri": "https://localhost:8080/",
          "height": 51
        }
      },
      "source": [
        "f1=float(i) #float converts the input into a float\n",
        "print(f1)\n",
        "type(f1)"
      ],
      "execution_count": 0,
      "outputs": [
        {
          "output_type": "stream",
          "text": [
            "100.0\n"
          ],
          "name": "stdout"
        },
        {
          "output_type": "execute_result",
          "data": {
            "text/plain": [
              "float"
            ]
          },
          "metadata": {
            "tags": []
          },
          "execution_count": 43
        }
      ]
    },
    {
      "cell_type": "code",
      "metadata": {
        "id": "kJ5Cw5r5Y3de",
        "colab_type": "code",
        "outputId": "87264220-312f-425f-ad61-0b11958bfdc0",
        "colab": {
          "base_uri": "https://localhost:8080/",
          "height": 34
        }
      },
      "source": [
        "s=\"100\"\n",
        "print(type(s))"
      ],
      "execution_count": 0,
      "outputs": [
        {
          "output_type": "stream",
          "text": [
            "<class 'str'>\n"
          ],
          "name": "stdout"
        }
      ]
    },
    {
      "cell_type": "code",
      "metadata": {
        "id": "1OXMrXRQZHbv",
        "colab_type": "code",
        "outputId": "c305c2da-3fb6-441e-b1a5-9366c98f1317",
        "colab": {
          "base_uri": "https://localhost:8080/",
          "height": 34
        }
      },
      "source": [
        "a=int(s)\n",
        "type(a)"
      ],
      "execution_count": 0,
      "outputs": [
        {
          "output_type": "execute_result",
          "data": {
            "text/plain": [
              "int"
            ]
          },
          "metadata": {
            "tags": []
          },
          "execution_count": 45
        }
      ]
    },
    {
      "cell_type": "code",
      "metadata": {
        "id": "zpXC7RcVZXeu",
        "colab_type": "code",
        "outputId": "dfd09c7b-acb9-41de-b75a-3c85dff20999",
        "colab": {
          "base_uri": "https://localhost:8080/",
          "height": 34
        }
      },
      "source": [
        "f=4.87\n",
        "type(f)"
      ],
      "execution_count": 0,
      "outputs": [
        {
          "output_type": "execute_result",
          "data": {
            "text/plain": [
              "float"
            ]
          },
          "metadata": {
            "tags": []
          },
          "execution_count": 46
        }
      ]
    },
    {
      "cell_type": "code",
      "metadata": {
        "id": "qvrDd-sWZhBO",
        "colab_type": "code",
        "outputId": "08ade5d0-3b06-4db4-8aeb-aa5f36b2ef2f",
        "colab": {
          "base_uri": "https://localhost:8080/",
          "height": 34
        }
      },
      "source": [
        "a1=int(f)\n",
        "type(a1)"
      ],
      "execution_count": 0,
      "outputs": [
        {
          "output_type": "execute_result",
          "data": {
            "text/plain": [
              "int"
            ]
          },
          "metadata": {
            "tags": []
          },
          "execution_count": 47
        }
      ]
    },
    {
      "cell_type": "code",
      "metadata": {
        "id": "pKvCqurpZyOW",
        "colab_type": "code",
        "outputId": "64a792df-ea34-43fd-d7a2-bb1c13d87aef",
        "colab": {
          "base_uri": "https://localhost:8080/",
          "height": 34
        }
      },
      "source": [
        "a=\"2345\"\n",
        "len(a) # returns the length of string"
      ],
      "execution_count": 0,
      "outputs": [
        {
          "output_type": "execute_result",
          "data": {
            "text/plain": [
              "4"
            ]
          },
          "metadata": {
            "tags": []
          },
          "execution_count": 48
        }
      ]
    },
    {
      "cell_type": "code",
      "metadata": {
        "id": "pLck0UisaKoo",
        "colab_type": "code",
        "outputId": "b831f6d5-d385-4984-b82c-f6b922b5983f",
        "colab": {
          "base_uri": "https://localhost:8080/",
          "height": 136
        }
      },
      "source": [
        "#arithemetic operators\n",
        "a=4\n",
        "b=6\n",
        "print(a+b)\n",
        "print(a-b)\n",
        "print(a*b)\n",
        "print(a/b)\n",
        "print(a%b)\n",
        "print(a//b)\n",
        "print(a**b)"
      ],
      "execution_count": 0,
      "outputs": [
        {
          "output_type": "stream",
          "text": [
            "10\n",
            "-2\n",
            "24\n",
            "0.6666666666666666\n",
            "4\n",
            "0\n",
            "4096\n"
          ],
          "name": "stdout"
        }
      ]
    },
    {
      "cell_type": "code",
      "metadata": {
        "id": "1CnanVWZeIfT",
        "colab_type": "code",
        "outputId": "749e717f-716c-498c-f205-ce5b28ed4bbf",
        "colab": {
          "base_uri": "https://localhost:8080/",
          "height": 68
        }
      },
      "source": [
        "#logical operators\n",
        "x=2\n",
        "y=5\n",
        "print(x>=5 and x<10)\n",
        "print(x>=5 or x<10)\n",
        "print(not(x))"
      ],
      "execution_count": 0,
      "outputs": [
        {
          "output_type": "stream",
          "text": [
            "False\n",
            "True\n",
            "False\n"
          ],
          "name": "stdout"
        }
      ]
    },
    {
      "cell_type": "code",
      "metadata": {
        "id": "Wd28Tau5e9g-",
        "colab_type": "code",
        "outputId": "0b4910fe-66ba-4218-9622-0072cde65d03",
        "colab": {
          "base_uri": "https://localhost:8080/",
          "height": 34
        }
      },
      "source": [
        "x=0\n",
        "print(not(x))"
      ],
      "execution_count": 0,
      "outputs": [
        {
          "output_type": "stream",
          "text": [
            "True\n"
          ],
          "name": "stdout"
        }
      ]
    },
    {
      "cell_type": "code",
      "metadata": {
        "id": "-8LhxWSJfNnX",
        "colab_type": "code",
        "outputId": "ed212cb5-31ef-412d-d36e-4eef7b5bfa75",
        "colab": {
          "base_uri": "https://localhost:8080/",
          "height": 119
        }
      },
      "source": [
        "#relational operators\n",
        "a=3\n",
        "b=5\n",
        "print(a==b)\n",
        "print(a>=b)\n",
        "print(a>b)\n",
        "print(a<=b)\n",
        "print(a<b)\n",
        "print(a!=b)"
      ],
      "execution_count": 0,
      "outputs": [
        {
          "output_type": "stream",
          "text": [
            "False\n",
            "False\n",
            "False\n",
            "True\n",
            "True\n",
            "True\n"
          ],
          "name": "stdout"
        }
      ]
    },
    {
      "cell_type": "code",
      "metadata": {
        "id": "GnwlxKgUgDbS",
        "colab_type": "code",
        "outputId": "d4a88979-ea84-4aae-e32c-0fb64aaabb31",
        "colab": {
          "base_uri": "https://localhost:8080/",
          "height": 85
        }
      },
      "source": [
        "#membership operators\n",
        "str1=\"vinitha\"\n",
        "print('a'in str1)\n",
        "print('s'in str1)\n",
        "print('a'not in str1)\n",
        "print('s'not in str1)\n"
      ],
      "execution_count": 0,
      "outputs": [
        {
          "output_type": "stream",
          "text": [
            "True\n",
            "False\n",
            "False\n",
            "True\n"
          ],
          "name": "stdout"
        }
      ]
    },
    {
      "cell_type": "code",
      "metadata": {
        "id": "3bN2I5Z_g8Lo",
        "colab_type": "code",
        "outputId": "4ba05298-8279-437b-b5b2-f9d89653d012",
        "colab": {
          "base_uri": "https://localhost:8080/",
          "height": 34
        }
      },
      "source": [
        "# given num is +ve or not\n",
        "a=4\n",
        "if a>0:\n",
        "  print(\"+ve num\")"
      ],
      "execution_count": 0,
      "outputs": [
        {
          "output_type": "stream",
          "text": [
            "+ve num\n"
          ],
          "name": "stdout"
        }
      ]
    },
    {
      "cell_type": "code",
      "metadata": {
        "id": "XqlRswRHjfqC",
        "colab_type": "code",
        "outputId": "fe8a2173-6df7-4863-ed12-dc92b1e2fe59",
        "colab": {
          "base_uri": "https://localhost:8080/",
          "height": 34
        }
      },
      "source": [
        "a=-54\n",
        "if a>0:\n",
        "  print(\"+ve number\")\n",
        "else:\n",
        "  print(\"-ve number\")"
      ],
      "execution_count": 0,
      "outputs": [
        {
          "output_type": "stream",
          "text": [
            "-ve number\n"
          ],
          "name": "stdout"
        }
      ]
    },
    {
      "cell_type": "code",
      "metadata": {
        "id": "JmxV7IaljzEX",
        "colab_type": "code",
        "outputId": "9d0ae97e-76f3-4bd0-b6f4-47a3e0a6ecb7",
        "colab": {
          "base_uri": "https://localhost:8080/",
          "height": 51
        }
      },
      "source": [
        "a=int(input(\"enter a vaule\"))\n",
        "if a>0:\n",
        "  print(\"+ve number\")\n",
        "elif a<0:\n",
        "  print(\"-ve number\")\n",
        "else:\n",
        "  print(\"zero\")"
      ],
      "execution_count": 0,
      "outputs": [
        {
          "output_type": "stream",
          "text": [
            "enter a vaule3\n",
            "+ve number\n"
          ],
          "name": "stdout"
        }
      ]
    },
    {
      "cell_type": "markdown",
      "metadata": {
        "id": "BS_Xh204MbGG",
        "colab_type": "text"
      },
      "source": [
        "# homework\n",
        "## 1) Program to find even or odd?\n",
        "## 2)Find out given number multiple of 5?\n",
        "## 3)Find out given number is a leap year or not?\n",
        "## 4)Find biggest number among three numbers\n",
        "## 5)Read a char and Find whether it is a vowel or not?\n",
        "\n"
      ]
    },
    {
      "cell_type": "code",
      "metadata": {
        "id": "Hrz-9ufcN_98",
        "colab_type": "code",
        "outputId": "398dc7f6-4854-4269-ea67-d4b03c7823ba",
        "colab": {
          "base_uri": "https://localhost:8080/",
          "height": 50
        }
      },
      "source": [
        "# 1st program\n",
        "a=int(nput(\"enter a number:\"))\n",
        "if a%2==0:\n",
        "  print(\"Thei given number is even \")\n",
        "else:\n",
        "  print(\"The given number is odd\")"
      ],
      "execution_count": 0,
      "outputs": [
        {
          "output_type": "stream",
          "text": [
            "enter a number179\n",
            "The given number is odd\n"
          ],
          "name": "stdout"
        }
      ]
    },
    {
      "cell_type": "code",
      "metadata": {
        "id": "fLRqWpbdTSh5",
        "colab_type": "code",
        "outputId": "78d9e189-4d08-4459-f6ad-709c59cbc43a",
        "colab": {
          "base_uri": "https://localhost:8080/",
          "height": 50
        }
      },
      "source": [
        "# 2nd program\n",
        "b=int(input(\"enter a vaule:\"))\n",
        "if b%5==0:\n",
        "  print(\"the given number is multiple of 5\")\n",
        "else:\n",
        "  print(\"The given number is not a multiple of 5\")"
      ],
      "execution_count": 0,
      "outputs": [
        {
          "output_type": "stream",
          "text": [
            "enter a vaule:1721\n",
            "The given number is not a multiple of 5\n"
          ],
          "name": "stdout"
        }
      ]
    },
    {
      "cell_type": "code",
      "metadata": {
        "id": "4J9Ouj28T84M",
        "colab_type": "code",
        "outputId": "ee442c9d-c41a-47a1-94d4-eb58011e93e7",
        "colab": {
          "base_uri": "https://localhost:8080/",
          "height": 50
        }
      },
      "source": [
        "# 3rd program\n",
        "y=int(input(\"enter a year:\"))\n",
        "if y%4==0:\n",
        "  print(\"Given year is a leap year\")\n",
        "elif y%100==0:\n",
        "  print(\"Given year is a leap year\")\n",
        "elif y%400==0:\n",
        "  print(\"Given year is a leap year\")\n",
        "else:\n",
        "  print(\"Given year is not a leap year\")\n",
        "\n"
      ],
      "execution_count": 0,
      "outputs": [
        {
          "output_type": "stream",
          "text": [
            "enter a year:1999\n",
            "Given year is not a leap year\n"
          ],
          "name": "stdout"
        }
      ]
    },
    {
      "cell_type": "code",
      "metadata": {
        "id": "QH8U3DSUUIA1",
        "colab_type": "code",
        "outputId": "ece8df9d-c79f-457d-bc1c-22a6a365e9e8",
        "colab": {
          "base_uri": "https://localhost:8080/",
          "height": 84
        }
      },
      "source": [
        "# 4th program\n",
        "d=int(input(\"enter a number:\"))\n",
        "e=int(input(\"enter a number:\"))\n",
        "f=int(input(\"enter a number:\"))\n",
        "if d>e:\n",
        "  if d>f:\n",
        "    print(\"d is biggst number.\")\n",
        "  else:\n",
        "    print(\"f is biggst number.\")\n",
        "else:\n",
        "  print(\"e is biggest number.\")\n"
      ],
      "execution_count": 0,
      "outputs": [
        {
          "output_type": "stream",
          "text": [
            "enter a number:23\n",
            "enter a number:21\n",
            "enter a number:60\n",
            "f is biggst number.\n"
          ],
          "name": "stdout"
        }
      ]
    },
    {
      "cell_type": "code",
      "metadata": {
        "id": "p4lSJTd6WFP2",
        "colab_type": "code",
        "outputId": "22a139f2-a29b-4456-ee4c-d55d83719195",
        "colab": {
          "base_uri": "https://localhost:8080/",
          "height": 50
        }
      },
      "source": [
        "# 5th program\n",
        "str1=input(\"enter a character:\")\n",
        "if str1=='a'or'e'or'i'or'o'or'u':\n",
        "  print(\"str1 is a vowel\")\n",
        "else:\n",
        "  print(\"str1 is not a vowel\")\n"
      ],
      "execution_count": 0,
      "outputs": [
        {
          "output_type": "stream",
          "text": [
            "enter a character:o\n",
            "str1 is a vowel\n"
          ],
          "name": "stdout"
        }
      ]
    }
  ]
}